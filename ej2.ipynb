{
 "cells": [
  {
   "cell_type": "code",
   "execution_count": 23,
   "metadata": {},
   "outputs": [
    {
     "name": "stdout",
     "output_type": "stream",
     "text": [
      "Requirement already satisfied: pandas in ./venv/lib/python3.12/site-packages (2.2.3)\n",
      "Requirement already satisfied: numpy>=1.26.0 in ./venv/lib/python3.12/site-packages (from pandas) (2.1.2)\n",
      "Requirement already satisfied: python-dateutil>=2.8.2 in ./venv/lib/python3.12/site-packages (from pandas) (2.9.0.post0)\n",
      "Requirement already satisfied: pytz>=2020.1 in ./venv/lib/python3.12/site-packages (from pandas) (2024.2)\n",
      "Requirement already satisfied: tzdata>=2022.7 in ./venv/lib/python3.12/site-packages (from pandas) (2024.2)\n",
      "Requirement already satisfied: six>=1.5 in ./venv/lib/python3.12/site-packages (from python-dateutil>=2.8.2->pandas) (1.16.0)\n",
      "Requirement already satisfied: seaborn in ./venv/lib/python3.12/site-packages (0.13.2)\n",
      "Requirement already satisfied: numpy!=1.24.0,>=1.20 in ./venv/lib/python3.12/site-packages (from seaborn) (2.1.2)\n",
      "Requirement already satisfied: pandas>=1.2 in ./venv/lib/python3.12/site-packages (from seaborn) (2.2.3)\n",
      "Requirement already satisfied: matplotlib!=3.6.1,>=3.4 in ./venv/lib/python3.12/site-packages (from seaborn) (3.9.2)\n",
      "Requirement already satisfied: contourpy>=1.0.1 in ./venv/lib/python3.12/site-packages (from matplotlib!=3.6.1,>=3.4->seaborn) (1.3.0)\n",
      "Requirement already satisfied: cycler>=0.10 in ./venv/lib/python3.12/site-packages (from matplotlib!=3.6.1,>=3.4->seaborn) (0.12.1)\n",
      "Requirement already satisfied: fonttools>=4.22.0 in ./venv/lib/python3.12/site-packages (from matplotlib!=3.6.1,>=3.4->seaborn) (4.54.1)\n",
      "Requirement already satisfied: kiwisolver>=1.3.1 in ./venv/lib/python3.12/site-packages (from matplotlib!=3.6.1,>=3.4->seaborn) (1.4.7)\n",
      "Requirement already satisfied: packaging>=20.0 in ./venv/lib/python3.12/site-packages (from matplotlib!=3.6.1,>=3.4->seaborn) (24.1)\n",
      "Requirement already satisfied: pillow>=8 in ./venv/lib/python3.12/site-packages (from matplotlib!=3.6.1,>=3.4->seaborn) (11.0.0)\n",
      "Requirement already satisfied: pyparsing>=2.3.1 in ./venv/lib/python3.12/site-packages (from matplotlib!=3.6.1,>=3.4->seaborn) (3.2.0)\n",
      "Requirement already satisfied: python-dateutil>=2.7 in ./venv/lib/python3.12/site-packages (from matplotlib!=3.6.1,>=3.4->seaborn) (2.9.0.post0)\n",
      "Requirement already satisfied: pytz>=2020.1 in ./venv/lib/python3.12/site-packages (from pandas>=1.2->seaborn) (2024.2)\n",
      "Requirement already satisfied: tzdata>=2022.7 in ./venv/lib/python3.12/site-packages (from pandas>=1.2->seaborn) (2024.2)\n",
      "Requirement already satisfied: six>=1.5 in ./venv/lib/python3.12/site-packages (from python-dateutil>=2.7->matplotlib!=3.6.1,>=3.4->seaborn) (1.16.0)\n"
     ]
    }
   ],
   "source": [
    "!pip install pandas\n",
    "!pip install seaborn"
   ]
  },
  {
   "cell_type": "code",
   "execution_count": 24,
   "metadata": {},
   "outputs": [],
   "source": [
    "import simpy\n",
    "import random\n",
    "import numpy as np"
   ]
  },
  {
   "cell_type": "markdown",
   "metadata": {},
   "source": [
    "## **Ejercicio 2**"
   ]
  },
  {
   "cell_type": "code",
   "execution_count": 25,
   "metadata": {},
   "outputs": [],
   "source": [
    "class Servidor:\n",
    "    def __init__(self, env, id_servidor):\n",
    "        self.env = env\n",
    "        self.id_servidor = id_servidor\n",
    "        self.procesador = simpy.Resource(env, capacity=1)\n",
    "        self.carga = 0\n",
    "\n",
    "    def procesar(self, solicitud):\n",
    "        # el tiempo de procesamiento del servidor sigue una distribución exponencial\n",
    "        tiempo_procesamiento = random.expovariate(1 / TIEMPO_PROCESAMIENTO_PROM)\n",
    "        self.carga += 1\n",
    "        yield self.env.timeout(tiempo_procesamiento)\n",
    "        tiempos_atencion_servidores.append(tiempo_procesamiento)\n",
    "        self.carga -= 1"
   ]
  },
  {
   "cell_type": "code",
   "execution_count": 26,
   "metadata": {},
   "outputs": [],
   "source": [
    "class BalanceadorRoundRobin:\n",
    "    def __init__(self, env, servidores):\n",
    "        self.env = env\n",
    "        self.servidores = servidores\n",
    "        self.procesador = simpy.Resource(env, capacity=1)\n",
    "        self.ultimo_servidor = 0\n",
    "\n",
    "    def balancear(self, solicitud):\n",
    "        servidor = None\n",
    "        with self.procesador.request() as req:\n",
    "            tiempo_inicio_espera = self.env.now\n",
    "            yield req\n",
    "            tiempo_inicio_proceso = self.env.now\n",
    "            tiempo_de_espera = tiempo_inicio_proceso - tiempo_inicio_espera\n",
    "            tiempos_espera_cola_balanceador.append(tiempo_de_espera)\n",
    "            yield self.env.timeout(TIEMPO_BALANCEADOR)\n",
    "            servidor = self.seleccionar_servidor()\n",
    "        \n",
    "        with servidor.procesador.request() as req:\n",
    "            tiempo_inicio_espera = self.env.now\n",
    "            yield req\n",
    "            tiempos_espera_cola_servidores.append(self.env.now - tiempo_inicio_espera)\n",
    "            yield self.env.process(servidor.procesar(solicitud))\n",
    "\n",
    "    def seleccionar_servidor(self):\n",
    "        servidor = self.servidores[self.ultimo_servidor]\n",
    "        self.ultimo_servidor = (self.ultimo_servidor + 1) % len(self.servidores)\n",
    "        return servidor\n"
   ]
  },
  {
   "cell_type": "code",
   "execution_count": 27,
   "metadata": {},
   "outputs": [],
   "source": [
    "class BalanceadorDifuso:\n",
    "    def __init__(self, env, servidores, grafo, umbral):\n",
    "        self.env = env\n",
    "        self.servidores = servidores\n",
    "        self.procesador = simpy.Resource(env, capacity=1)\n",
    "        self.grafo = grafo\n",
    "        self.umbral = umbral\n",
    "\n",
    "    def balancear(self, solicitud):\n",
    "        servidor = None\n",
    "        with self.procesador.request() as req:\n",
    "            tiempo_inicio_espera = self.env.now\n",
    "            yield req\n",
    "            tiempos_espera_cola_balanceador.append(self.env.now - tiempo_inicio_espera)\n",
    "            yield self.env.timeout(TIEMPO_BALANCEADOR)\n",
    "            servidor = self.seleccionar_servidor()\n",
    "\n",
    "        with servidor.procesador.request() as req:\n",
    "            tiempo_inicio_espera = self.env.now\n",
    "            yield req\n",
    "            tiempos_espera_cola_servidores.append(self.env.now - tiempo_inicio_espera)\n",
    "            yield self.env.process(servidor.procesar(solicitud))\n",
    "\n",
    "    def seleccionar_servidor(self):\n",
    "        # selecciona un servidor con menor carga siguiendo el grafo y el umbral de carga\n",
    "        servidor_inicial = random.choice(self.servidores) # aca por ahi podriamos hacer un round robin como dice en el paper\n",
    "        return self.propagacion_difusa(servidor_inicial)\n",
    "\n",
    "    def propagacion_difusa(self, servidor_actual):\n",
    "        # busca el servidor menos cargado entre los vecinos si la diferencia de carga excede el umbral\n",
    "        visitados = set()  # para evitar ciclos en el grafo\n",
    "        cola = [servidor_actual]\n",
    "\n",
    "        while cola:\n",
    "            servidor = cola.pop(0)\n",
    "            visitados.add(servidor.id_servidor)\n",
    "\n",
    "            vecinos = [self.servidores[vid] for vid in self.grafo[servidor.id_servidor] if vid not in visitados]\n",
    "            if not vecinos:\n",
    "                break  # no hay vecinos a los que propagar\n",
    "\n",
    "            servidor_menos_cargado = min(vecinos, key=lambda s: s.carga)\n",
    "            diferencial_carga = servidor.carga - servidor_menos_cargado.carga\n",
    "\n",
    "            if diferencial_carga > self.umbral:\n",
    "                cola.append(servidor_menos_cargado)  # propaga al vecino menos cargado\n",
    "            else:\n",
    "                return servidor  # retorna el servidor actual si la carga es aceptable\n",
    "\n",
    "        return servidor_actual  # devuelve el servidor inicial si no se encontró uno mejor"
   ]
  },
  {
   "cell_type": "code",
   "execution_count": 28,
   "metadata": {},
   "outputs": [],
   "source": [
    "def generar_solicitudes(env, balanceador):\n",
    "    solicitud_id = 0\n",
    "\n",
    "    for _ in range(CANTIDAD_SOLICITUDES):\n",
    "        env.process(balanceador.balancear(solicitud_id))\n",
    "        solicitud_id += 1\n",
    "        yield env.timeout(random.expovariate(TASA_SOLICITUDES))"
   ]
  },
  {
   "cell_type": "code",
   "execution_count": 29,
   "metadata": {},
   "outputs": [],
   "source": [
    "def simular(tecnica, num_servidores):\n",
    "    env = simpy.Environment()\n",
    "    servidores = [Servidor(env, i) for i in range(num_servidores)]\n",
    "    \n",
    "    if tecnica == \"Difuso\":\n",
    "        balanceador = BalanceadorDifuso(env, servidores, grafo, UMBRAL_PROPAGACION)\n",
    "    elif tecnica == \"Round Robin\":\n",
    "        balanceador = BalanceadorRoundRobin(env, servidores)\n",
    "    else:\n",
    "        raise ValueError(\"Técnica no soportada en esta simulación\")\n",
    "\n",
    "    env.process(generar_solicitudes(env, balanceador))\n",
    "    env.run()"
   ]
  },
  {
   "cell_type": "code",
   "execution_count": 30,
   "metadata": {},
   "outputs": [],
   "source": [
    "def mostrar_resultados():\n",
    "    print(\"Media de espera en cola de balanceador:\", np.mean(tiempos_espera_cola_balanceador))\n",
    "    print(\"Media de espera en cola de servidores:\", np.mean(tiempos_espera_cola_servidores))\n",
    "    print(\"Media de atención en servidores:\", np.mean(tiempos_atencion_servidores))\n",
    "    print()\n",
    "\n",
    "    print(\"Mediana de espera en cola de balanceador:\", np.median(tiempos_espera_cola_balanceador))\n",
    "    print(\"Mediana de espera en cola de servidores:\", np.median(tiempos_espera_cola_servidores))\n",
    "    print(\"Mediana de atención en servidores:\", np.median(tiempos_atencion_servidores))\n",
    "    print()\n",
    "    \n",
    "    print(\"Desviación estándar de espera en cola del balanceador:\", np.std(tiempos_espera_cola_balanceador))\n",
    "    print(\"Desviación estándar de espera en cola de servidores:\", np.std(tiempos_espera_cola_servidores))\n",
    "    print(\"Desviación estándar de atención en servidores:\", np.std(tiempos_atencion_servidores))"
   ]
  },
  {
   "cell_type": "code",
   "execution_count": 31,
   "metadata": {},
   "outputs": [],
   "source": [
    "import pandas as pd\n",
    "\n",
    "def armar_configuracion(df, configuracion, tecnica):\n",
    "    configuracion = [configuracion] * 3\n",
    "    tecnica = [tecnica] * 3\n",
    "    media = df.mean().to_frame(name = \"Media\")\n",
    "    mediana = df.median().to_frame(name = \"Mediana\")\n",
    "    desvio_estandar = df.std().to_frame(name = \"Desvío estándar\")\n",
    "    resultado = media.join(mediana).join(desvio_estandar)\n",
    "    resultado[\"Configuracion\"] = configuracion\n",
    "    resultado[\"Técnica\"] = tecnica\n",
    "    resultado = resultado.reset_index().rename(columns = {\"index\": \"Métrica\"})\n",
    "    return resultado\n",
    "\n",
    "def concatenar_metricas(configuraciones):\n",
    "    return pd.concat(configuraciones).reset_index().drop(columns = \"index\")\n",
    "\n",
    "def definir_metricas():\n",
    "    metricas = {\"Espera cola balanceador\": tiempos_espera_cola_balanceador,\n",
    "                \"Espera cola servidores\": tiempos_espera_cola_servidores,\n",
    "                \"Atención cola servidores\": tiempos_atencion_servidores}\n",
    "    return metricas"
   ]
  },
  {
   "cell_type": "markdown",
   "metadata": {},
   "source": [
    "### **Parámetros comunes**"
   ]
  },
  {
   "cell_type": "code",
   "execution_count": 32,
   "metadata": {},
   "outputs": [],
   "source": [
    "CANTIDAD_SOLICITUDES = 100_000\n",
    "UMBRAL_PROPAGACION = 2 # Diferencia de carga para propagación en balanceador difuso\n",
    "\n",
    "# Definición de la red de servidores en forma de grafo (lista de adyacencia)\n",
    "grafo = {\n",
    "    0: [1, 2],\n",
    "    1: [0, 3, 4],\n",
    "    2: [0, 3],\n",
    "    3: [1, 2, 4],\n",
    "    4: [1, 3]\n",
    "}"
   ]
  },
  {
   "cell_type": "markdown",
   "metadata": {},
   "source": [
    "### **Configuración 1**"
   ]
  },
  {
   "cell_type": "code",
   "execution_count": 33,
   "metadata": {},
   "outputs": [],
   "source": [
    "# Parámetros de la simulación\n",
    "TASA_SOLICITUDES = 5                # Tasa de llegada de solicitudes en solicitudes/segundo (poisson)\n",
    "TIEMPO_BALANCEADOR = 0.01           # Tiempo que toma al balanceador derivar la solicitud en segundos\n",
    "TIEMPO_PROCESAMIENTO_PROM = 0.1     # Tiempo promedio de procesamiento en segundos\n",
    "NUM_SERVIDORES = 5                  # Número de servidores"
   ]
  },
  {
   "cell_type": "markdown",
   "metadata": {},
   "source": [
    "#### Round Robin"
   ]
  },
  {
   "cell_type": "code",
   "execution_count": 34,
   "metadata": {},
   "outputs": [
    {
     "data": {
      "text/html": [
       "<div>\n",
       "<style scoped>\n",
       "    .dataframe tbody tr th:only-of-type {\n",
       "        vertical-align: middle;\n",
       "    }\n",
       "\n",
       "    .dataframe tbody tr th {\n",
       "        vertical-align: top;\n",
       "    }\n",
       "\n",
       "    .dataframe thead th {\n",
       "        text-align: right;\n",
       "    }\n",
       "</style>\n",
       "<table border=\"1\" class=\"dataframe\">\n",
       "  <thead>\n",
       "    <tr style=\"text-align: right;\">\n",
       "      <th></th>\n",
       "      <th>Métrica</th>\n",
       "      <th>Media</th>\n",
       "      <th>Mediana</th>\n",
       "      <th>Desvío estándar</th>\n",
       "      <th>Configuracion</th>\n",
       "      <th>Técnica</th>\n",
       "    </tr>\n",
       "  </thead>\n",
       "  <tbody>\n",
       "    <tr>\n",
       "      <th>0</th>\n",
       "      <td>Espera cola balanceador</td>\n",
       "      <td>0.000255</td>\n",
       "      <td>0.000000</td>\n",
       "      <td>0.001327</td>\n",
       "      <td>1</td>\n",
       "      <td>Round Robin</td>\n",
       "    </tr>\n",
       "    <tr>\n",
       "      <th>1</th>\n",
       "      <td>Espera cola servidores</td>\n",
       "      <td>0.000437</td>\n",
       "      <td>0.000000</td>\n",
       "      <td>0.009224</td>\n",
       "      <td>1</td>\n",
       "      <td>Round Robin</td>\n",
       "    </tr>\n",
       "    <tr>\n",
       "      <th>2</th>\n",
       "      <td>Atención cola servidores</td>\n",
       "      <td>0.100053</td>\n",
       "      <td>0.069568</td>\n",
       "      <td>0.099889</td>\n",
       "      <td>1</td>\n",
       "      <td>Round Robin</td>\n",
       "    </tr>\n",
       "  </tbody>\n",
       "</table>\n",
       "</div>"
      ],
      "text/plain": [
       "                    Métrica     Media   Mediana  Desvío estándar  \\\n",
       "0   Espera cola balanceador  0.000255  0.000000         0.001327   \n",
       "1    Espera cola servidores  0.000437  0.000000         0.009224   \n",
       "2  Atención cola servidores  0.100053  0.069568         0.099889   \n",
       "\n",
       "   Configuracion      Técnica  \n",
       "0              1  Round Robin  \n",
       "1              1  Round Robin  \n",
       "2              1  Round Robin  "
      ]
     },
     "execution_count": 34,
     "metadata": {},
     "output_type": "execute_result"
    }
   ],
   "source": [
    "# Inicialización de métricas\n",
    "tiempos_espera_cola_balanceador = [] # Tiempos de espera entre la llegada de una solicitud al balanceador y la atencion del mismo\n",
    "tiempos_espera_cola_servidores = []  # Tiempos de espera entre la llegada de una solicitud al servidor y la atencion del mismo\n",
    "tiempos_atencion_servidores = []     # Tiempos de procesamiento de las solicitudes en el servidor\n",
    "\n",
    "simular(\"Round Robin\", NUM_SERVIDORES)\n",
    "metricas_rr = definir_metricas()\n",
    "df_rr_1 = pd.DataFrame(metricas_rr)\n",
    "config_rr_1 = armar_configuracion(df_rr_1, 1, \"Round Robin\")\n",
    "df_rr_1[\"Configuracion\"] = [1] * CANTIDAD_SOLICITUDES\n",
    "config_rr_1"
   ]
  },
  {
   "cell_type": "markdown",
   "metadata": {},
   "source": [
    "#### Difuso"
   ]
  },
  {
   "cell_type": "code",
   "execution_count": 35,
   "metadata": {},
   "outputs": [
    {
     "data": {
      "text/html": [
       "<div>\n",
       "<style scoped>\n",
       "    .dataframe tbody tr th:only-of-type {\n",
       "        vertical-align: middle;\n",
       "    }\n",
       "\n",
       "    .dataframe tbody tr th {\n",
       "        vertical-align: top;\n",
       "    }\n",
       "\n",
       "    .dataframe thead th {\n",
       "        text-align: right;\n",
       "    }\n",
       "</style>\n",
       "<table border=\"1\" class=\"dataframe\">\n",
       "  <thead>\n",
       "    <tr style=\"text-align: right;\">\n",
       "      <th></th>\n",
       "      <th>Métrica</th>\n",
       "      <th>Media</th>\n",
       "      <th>Mediana</th>\n",
       "      <th>Desvío estándar</th>\n",
       "      <th>Configuracion</th>\n",
       "      <th>Técnica</th>\n",
       "    </tr>\n",
       "  </thead>\n",
       "  <tbody>\n",
       "    <tr>\n",
       "      <th>0</th>\n",
       "      <td>Espera cola balanceador</td>\n",
       "      <td>0.000264</td>\n",
       "      <td>0.000000</td>\n",
       "      <td>0.001363</td>\n",
       "      <td>1</td>\n",
       "      <td>Difuso</td>\n",
       "    </tr>\n",
       "    <tr>\n",
       "      <th>1</th>\n",
       "      <td>Espera cola servidores</td>\n",
       "      <td>0.011158</td>\n",
       "      <td>0.000000</td>\n",
       "      <td>0.048603</td>\n",
       "      <td>1</td>\n",
       "      <td>Difuso</td>\n",
       "    </tr>\n",
       "    <tr>\n",
       "      <th>2</th>\n",
       "      <td>Atención cola servidores</td>\n",
       "      <td>0.100269</td>\n",
       "      <td>0.069439</td>\n",
       "      <td>0.100413</td>\n",
       "      <td>1</td>\n",
       "      <td>Difuso</td>\n",
       "    </tr>\n",
       "  </tbody>\n",
       "</table>\n",
       "</div>"
      ],
      "text/plain": [
       "                    Métrica     Media   Mediana  Desvío estándar  \\\n",
       "0   Espera cola balanceador  0.000264  0.000000         0.001363   \n",
       "1    Espera cola servidores  0.011158  0.000000         0.048603   \n",
       "2  Atención cola servidores  0.100269  0.069439         0.100413   \n",
       "\n",
       "   Configuracion Técnica  \n",
       "0              1  Difuso  \n",
       "1              1  Difuso  \n",
       "2              1  Difuso  "
      ]
     },
     "execution_count": 35,
     "metadata": {},
     "output_type": "execute_result"
    }
   ],
   "source": [
    "# Inicialización de métricas\n",
    "tiempos_espera_cola_balanceador = [] # Tiempos de espera entre la llegada de una solicitud al balanceador y la atencion del mismo\n",
    "tiempos_espera_cola_servidores = []  # Tiempos de espera entre la llegada de una solicitud al servidor y la atencion del mismo\n",
    "tiempos_atencion_servidores = []     # Tiempos de procesamiento de las solicitudes en el servidor\n",
    "\n",
    "simular(\"Difuso\", NUM_SERVIDORES)\n",
    "metricas_d = definir_metricas()\n",
    "df_d_1 = pd.DataFrame(metricas_d)\n",
    "config_d_1 = armar_configuracion(df_d_1, 1, \"Difuso\")\n",
    "df_d_1[\"Configuracion\"] = [1] * CANTIDAD_SOLICITUDES\n",
    "config_d_1"
   ]
  },
  {
   "cell_type": "markdown",
   "metadata": {},
   "source": [
    "### **Configuración 2**"
   ]
  },
  {
   "cell_type": "code",
   "execution_count": 36,
   "metadata": {},
   "outputs": [],
   "source": [
    "# Parámetros de la simulación\n",
    "TASA_SOLICITUDES = 7                # Tasa de llegada de solicitudes en solicitudes/segundo (poisson)\n",
    "TIEMPO_BALANCEADOR = 0.1           # Tiempo que toma al balanceador derivar la solicitud en segundos\n",
    "TIEMPO_PROCESAMIENTO_PROM = 0.5     # Tiempo promedio de procesamiento en segundos\n",
    "NUM_SERVIDORES = 5                  # Número de servidores"
   ]
  },
  {
   "cell_type": "markdown",
   "metadata": {},
   "source": [
    "#### Round Robin"
   ]
  },
  {
   "cell_type": "code",
   "execution_count": 37,
   "metadata": {},
   "outputs": [
    {
     "data": {
      "text/html": [
       "<div>\n",
       "<style scoped>\n",
       "    .dataframe tbody tr th:only-of-type {\n",
       "        vertical-align: middle;\n",
       "    }\n",
       "\n",
       "    .dataframe tbody tr th {\n",
       "        vertical-align: top;\n",
       "    }\n",
       "\n",
       "    .dataframe thead th {\n",
       "        text-align: right;\n",
       "    }\n",
       "</style>\n",
       "<table border=\"1\" class=\"dataframe\">\n",
       "  <thead>\n",
       "    <tr style=\"text-align: right;\">\n",
       "      <th></th>\n",
       "      <th>Métrica</th>\n",
       "      <th>Media</th>\n",
       "      <th>Mediana</th>\n",
       "      <th>Desvío estándar</th>\n",
       "      <th>Configuracion</th>\n",
       "      <th>Técnica</th>\n",
       "    </tr>\n",
       "  </thead>\n",
       "  <tbody>\n",
       "    <tr>\n",
       "      <th>0</th>\n",
       "      <td>Espera cola balanceador</td>\n",
       "      <td>0.114348</td>\n",
       "      <td>0.071314</td>\n",
       "      <td>0.143057</td>\n",
       "      <td>2</td>\n",
       "      <td>Round Robin</td>\n",
       "    </tr>\n",
       "    <tr>\n",
       "      <th>1</th>\n",
       "      <td>Espera cola servidores</td>\n",
       "      <td>0.587288</td>\n",
       "      <td>0.063356</td>\n",
       "      <td>0.978877</td>\n",
       "      <td>2</td>\n",
       "      <td>Round Robin</td>\n",
       "    </tr>\n",
       "    <tr>\n",
       "      <th>2</th>\n",
       "      <td>Atención cola servidores</td>\n",
       "      <td>0.505281</td>\n",
       "      <td>0.350528</td>\n",
       "      <td>0.506372</td>\n",
       "      <td>2</td>\n",
       "      <td>Round Robin</td>\n",
       "    </tr>\n",
       "  </tbody>\n",
       "</table>\n",
       "</div>"
      ],
      "text/plain": [
       "                    Métrica     Media   Mediana  Desvío estándar  \\\n",
       "0   Espera cola balanceador  0.114348  0.071314         0.143057   \n",
       "1    Espera cola servidores  0.587288  0.063356         0.978877   \n",
       "2  Atención cola servidores  0.505281  0.350528         0.506372   \n",
       "\n",
       "   Configuracion      Técnica  \n",
       "0              2  Round Robin  \n",
       "1              2  Round Robin  \n",
       "2              2  Round Robin  "
      ]
     },
     "execution_count": 37,
     "metadata": {},
     "output_type": "execute_result"
    }
   ],
   "source": [
    "# Inicialización de métricas\n",
    "tiempos_espera_cola_balanceador = [] # Tiempos de espera entre la llegada de una solicitud al balanceador y la atencion del mismo\n",
    "tiempos_espera_cola_servidores = []  # Tiempos de espera entre la llegada de una solicitud al servidor y la atencion del mismo\n",
    "tiempos_atencion_servidores = []     # Tiempos de procesamiento de las solicitudes en el servidor\n",
    "\n",
    "simular(\"Round Robin\", NUM_SERVIDORES)\n",
    "metricas_rr = definir_metricas()\n",
    "df_rr_2 = pd.DataFrame(metricas_rr)\n",
    "config_rr_2 = armar_configuracion(df_rr_2, 2, \"Round Robin\")\n",
    "df_rr_2[\"Configuracion\"] = [2] * CANTIDAD_SOLICITUDES\n",
    "config_rr_2"
   ]
  },
  {
   "cell_type": "markdown",
   "metadata": {},
   "source": [
    "#### Difuso"
   ]
  },
  {
   "cell_type": "code",
   "execution_count": 38,
   "metadata": {},
   "outputs": [
    {
     "data": {
      "text/html": [
       "<div>\n",
       "<style scoped>\n",
       "    .dataframe tbody tr th:only-of-type {\n",
       "        vertical-align: middle;\n",
       "    }\n",
       "\n",
       "    .dataframe tbody tr th {\n",
       "        vertical-align: top;\n",
       "    }\n",
       "\n",
       "    .dataframe thead th {\n",
       "        text-align: right;\n",
       "    }\n",
       "</style>\n",
       "<table border=\"1\" class=\"dataframe\">\n",
       "  <thead>\n",
       "    <tr style=\"text-align: right;\">\n",
       "      <th></th>\n",
       "      <th>Métrica</th>\n",
       "      <th>Media</th>\n",
       "      <th>Mediana</th>\n",
       "      <th>Desvío estándar</th>\n",
       "      <th>Configuracion</th>\n",
       "      <th>Técnica</th>\n",
       "    </tr>\n",
       "  </thead>\n",
       "  <tbody>\n",
       "    <tr>\n",
       "      <th>0</th>\n",
       "      <td>Espera cola balanceador</td>\n",
       "      <td>0.116648</td>\n",
       "      <td>0.072943</td>\n",
       "      <td>0.144933</td>\n",
       "      <td>2</td>\n",
       "      <td>Difuso</td>\n",
       "    </tr>\n",
       "    <tr>\n",
       "      <th>1</th>\n",
       "      <td>Espera cola servidores</td>\n",
       "      <td>1.191814</td>\n",
       "      <td>0.532843</td>\n",
       "      <td>1.674906</td>\n",
       "      <td>2</td>\n",
       "      <td>Difuso</td>\n",
       "    </tr>\n",
       "    <tr>\n",
       "      <th>2</th>\n",
       "      <td>Atención cola servidores</td>\n",
       "      <td>0.499287</td>\n",
       "      <td>0.345423</td>\n",
       "      <td>0.500402</td>\n",
       "      <td>2</td>\n",
       "      <td>Difuso</td>\n",
       "    </tr>\n",
       "  </tbody>\n",
       "</table>\n",
       "</div>"
      ],
      "text/plain": [
       "                    Métrica     Media   Mediana  Desvío estándar  \\\n",
       "0   Espera cola balanceador  0.116648  0.072943         0.144933   \n",
       "1    Espera cola servidores  1.191814  0.532843         1.674906   \n",
       "2  Atención cola servidores  0.499287  0.345423         0.500402   \n",
       "\n",
       "   Configuracion Técnica  \n",
       "0              2  Difuso  \n",
       "1              2  Difuso  \n",
       "2              2  Difuso  "
      ]
     },
     "execution_count": 38,
     "metadata": {},
     "output_type": "execute_result"
    }
   ],
   "source": [
    "# Inicialización de métricas\n",
    "tiempos_espera_cola_balanceador = [] # Tiempos de espera entre la llegada de una solicitud al balanceador y la atencion del mismo\n",
    "tiempos_espera_cola_servidores = []  # Tiempos de espera entre la llegada de una solicitud al servidor y la atencion del mismo\n",
    "tiempos_atencion_servidores = []     # Tiempos de procesamiento de las solicitudes en el servidor\n",
    "\n",
    "simular(\"Difuso\", NUM_SERVIDORES)\n",
    "metricas_d = definir_metricas()\n",
    "df_d_2 = pd.DataFrame(metricas_d)\n",
    "config_d_2 = armar_configuracion(df_d_2, 2, \"Difuso\")\n",
    "df_d_2[\"Configuracion\"] = [2] * CANTIDAD_SOLICITUDES\n",
    "config_d_2"
   ]
  },
  {
   "cell_type": "markdown",
   "metadata": {},
   "source": [
    "### **Configuracion 3**"
   ]
  },
  {
   "cell_type": "code",
   "execution_count": 39,
   "metadata": {},
   "outputs": [],
   "source": [
    "# Parámetros de la simulación\n",
    "TASA_SOLICITUDES = 2                # Tasa de llegada de solicitudes en solicitudes/segundo (poisson)\n",
    "TIEMPO_BALANCEADOR = 0.001           # Tiempo que toma al balanceador derivar la solicitud en segundos\n",
    "TIEMPO_PROCESAMIENTO_PROM = 0.05     # Tiempo promedio de procesamiento en segundos\n",
    "NUM_SERVIDORES = 5                  # Número de servidores"
   ]
  },
  {
   "cell_type": "markdown",
   "metadata": {},
   "source": [
    "#### Round Robin"
   ]
  },
  {
   "cell_type": "code",
   "execution_count": 40,
   "metadata": {},
   "outputs": [
    {
     "data": {
      "text/html": [
       "<div>\n",
       "<style scoped>\n",
       "    .dataframe tbody tr th:only-of-type {\n",
       "        vertical-align: middle;\n",
       "    }\n",
       "\n",
       "    .dataframe tbody tr th {\n",
       "        vertical-align: top;\n",
       "    }\n",
       "\n",
       "    .dataframe thead th {\n",
       "        text-align: right;\n",
       "    }\n",
       "</style>\n",
       "<table border=\"1\" class=\"dataframe\">\n",
       "  <thead>\n",
       "    <tr style=\"text-align: right;\">\n",
       "      <th></th>\n",
       "      <th>Métrica</th>\n",
       "      <th>Media</th>\n",
       "      <th>Mediana</th>\n",
       "      <th>Desvío estándar</th>\n",
       "      <th>Configuracion</th>\n",
       "      <th>Técnica</th>\n",
       "    </tr>\n",
       "  </thead>\n",
       "  <tbody>\n",
       "    <tr>\n",
       "      <th>0</th>\n",
       "      <td>Espera cola balanceador</td>\n",
       "      <td>1.077120e-06</td>\n",
       "      <td>0.000000</td>\n",
       "      <td>0.000027</td>\n",
       "      <td>3</td>\n",
       "      <td>Round Robin</td>\n",
       "    </tr>\n",
       "    <tr>\n",
       "      <th>1</th>\n",
       "      <td>Espera cola servidores</td>\n",
       "      <td>8.786274e-07</td>\n",
       "      <td>0.000000</td>\n",
       "      <td>0.000199</td>\n",
       "      <td>3</td>\n",
       "      <td>Round Robin</td>\n",
       "    </tr>\n",
       "    <tr>\n",
       "      <th>2</th>\n",
       "      <td>Atención cola servidores</td>\n",
       "      <td>4.982692e-02</td>\n",
       "      <td>0.034476</td>\n",
       "      <td>0.050062</td>\n",
       "      <td>3</td>\n",
       "      <td>Round Robin</td>\n",
       "    </tr>\n",
       "  </tbody>\n",
       "</table>\n",
       "</div>"
      ],
      "text/plain": [
       "                    Métrica         Media   Mediana  Desvío estándar  \\\n",
       "0   Espera cola balanceador  1.077120e-06  0.000000         0.000027   \n",
       "1    Espera cola servidores  8.786274e-07  0.000000         0.000199   \n",
       "2  Atención cola servidores  4.982692e-02  0.034476         0.050062   \n",
       "\n",
       "   Configuracion      Técnica  \n",
       "0              3  Round Robin  \n",
       "1              3  Round Robin  \n",
       "2              3  Round Robin  "
      ]
     },
     "execution_count": 40,
     "metadata": {},
     "output_type": "execute_result"
    }
   ],
   "source": [
    "# Inicialización de métricas\n",
    "tiempos_espera_cola_balanceador = [] # Tiempos de espera entre la llegada de una solicitud al balanceador y la atencion del mismo\n",
    "tiempos_espera_cola_servidores = []  # Tiempos de espera entre la llegada de una solicitud al servidor y la atencion del mismo\n",
    "tiempos_atencion_servidores = []     # Tiempos de procesamiento de las solicitudes en el servidor\n",
    "\n",
    "simular(\"Round Robin\", NUM_SERVIDORES)\n",
    "metricas_rr = definir_metricas()\n",
    "df_rr_3 = pd.DataFrame(metricas_rr)\n",
    "config_rr_3 = armar_configuracion(df_rr_3, 3, \"Round Robin\")\n",
    "df_rr_3[\"Configuracion\"] = [3] * CANTIDAD_SOLICITUDES\n",
    "config_rr_3"
   ]
  },
  {
   "cell_type": "markdown",
   "metadata": {},
   "source": [
    "#### Difuso"
   ]
  },
  {
   "cell_type": "code",
   "execution_count": 41,
   "metadata": {},
   "outputs": [
    {
     "data": {
      "text/html": [
       "<div>\n",
       "<style scoped>\n",
       "    .dataframe tbody tr th:only-of-type {\n",
       "        vertical-align: middle;\n",
       "    }\n",
       "\n",
       "    .dataframe tbody tr th {\n",
       "        vertical-align: top;\n",
       "    }\n",
       "\n",
       "    .dataframe thead th {\n",
       "        text-align: right;\n",
       "    }\n",
       "</style>\n",
       "<table border=\"1\" class=\"dataframe\">\n",
       "  <thead>\n",
       "    <tr style=\"text-align: right;\">\n",
       "      <th></th>\n",
       "      <th>Métrica</th>\n",
       "      <th>Media</th>\n",
       "      <th>Mediana</th>\n",
       "      <th>Desvío estándar</th>\n",
       "      <th>Configuracion</th>\n",
       "      <th>Técnica</th>\n",
       "    </tr>\n",
       "  </thead>\n",
       "  <tbody>\n",
       "    <tr>\n",
       "      <th>0</th>\n",
       "      <td>Espera cola balanceador</td>\n",
       "      <td>0.000001</td>\n",
       "      <td>0.000000</td>\n",
       "      <td>0.000026</td>\n",
       "      <td>3</td>\n",
       "      <td>Difuso</td>\n",
       "    </tr>\n",
       "    <tr>\n",
       "      <th>1</th>\n",
       "      <td>Espera cola servidores</td>\n",
       "      <td>0.000996</td>\n",
       "      <td>0.000000</td>\n",
       "      <td>0.009877</td>\n",
       "      <td>3</td>\n",
       "      <td>Difuso</td>\n",
       "    </tr>\n",
       "    <tr>\n",
       "      <th>2</th>\n",
       "      <td>Atención cola servidores</td>\n",
       "      <td>0.050092</td>\n",
       "      <td>0.034672</td>\n",
       "      <td>0.049958</td>\n",
       "      <td>3</td>\n",
       "      <td>Difuso</td>\n",
       "    </tr>\n",
       "  </tbody>\n",
       "</table>\n",
       "</div>"
      ],
      "text/plain": [
       "                    Métrica     Media   Mediana  Desvío estándar  \\\n",
       "0   Espera cola balanceador  0.000001  0.000000         0.000026   \n",
       "1    Espera cola servidores  0.000996  0.000000         0.009877   \n",
       "2  Atención cola servidores  0.050092  0.034672         0.049958   \n",
       "\n",
       "   Configuracion Técnica  \n",
       "0              3  Difuso  \n",
       "1              3  Difuso  \n",
       "2              3  Difuso  "
      ]
     },
     "execution_count": 41,
     "metadata": {},
     "output_type": "execute_result"
    }
   ],
   "source": [
    "# Inicialización de métricas\n",
    "tiempos_espera_cola_balanceador = [] # Tiempos de espera entre la llegada de una solicitud al balanceador y la atencion del mismo\n",
    "tiempos_espera_cola_servidores = []  # Tiempos de espera entre la llegada de una solicitud al servidor y la atencion del mismo\n",
    "tiempos_atencion_servidores = []     # Tiempos de procesamiento de las solicitudes en el servidor\n",
    "\n",
    "simular(\"Difuso\", NUM_SERVIDORES)\n",
    "metricas_d = definir_metricas()\n",
    "df_d_3 = pd.DataFrame(metricas_d)\n",
    "config_d_3 = armar_configuracion(df_d_3, 3, \"Difuso\")\n",
    "df_d_3[\"Configuracion\"] = [3] * CANTIDAD_SOLICITUDES\n",
    "config_d_3"
   ]
  },
  {
   "cell_type": "markdown",
   "metadata": {},
   "source": [
    "### **Combinar Resultados**"
   ]
  },
  {
   "cell_type": "code",
   "execution_count": 42,
   "metadata": {},
   "outputs": [],
   "source": [
    "resultados = [config_rr_1, config_d_1, config_rr_2, config_d_2, config_rr_3, config_d_3]\n",
    "distribuciones = [df_rr_1, df_d_1, df_rr_2, df_d_2, df_rr_3, df_d_3]\n",
    "combinacion = concatenar_metricas(resultados)\n",
    "combinaciones_dist = concatenar_metricas(distribuciones)"
   ]
  },
  {
   "cell_type": "code",
   "execution_count": 43,
   "metadata": {},
   "outputs": [
    {
     "data": {
      "image/png": "[encoded data removed]",
      "text/plain": [
       "<Figure size 640x480 with 1 Axes>"
      ]
     },
     "metadata": {},
     "output_type": "display_data"
    },
    {
     "data": {
      "image/png": "[encoded data removed]",
      "text/plain": [
       "<Figure size 640x480 with 1 Axes>"
      ]
     },
     "metadata": {},
     "output_type": "display_data"
    },
    {
     "data": {
      "image/png": "[encoded data removed]",
      "text/plain": [
       "<Figure size 640x480 with 1 Axes>"
      ]
     },
     "metadata": {},
     "output_type": "display_data"
    }
   ],
   "source": [
    "import seaborn as sns\n",
    "import matplotlib.pyplot as plt\n",
    "\n",
    "def plot_compraracion(metrica):\n",
    "    sns.barplot(x = \"Métrica\", y = metrica, hue = \"Configuracion\", data = combinacion)\n",
    "    \n",
    "    plt.title(f\"Comparacion {metrica}\")\n",
    "    plt.show()\n",
    "\n",
    "plot_compraracion(\"Media\")\n",
    "plot_compraracion(\"Mediana\")\n",
    "plot_compraracion(\"Desvío estándar\")"
   ]
  },
  {
   "cell_type": "code",
   "execution_count": 44,
   "metadata": {},
   "outputs": [
    {
     "data": {
      "image/png": "[encoded data removed]",
      "text/plain": [
       "<Figure size 607.736x500 with 1 Axes>"
      ]
     },
     "metadata": {},
     "output_type": "display_data"
    },
    {
     "data": {
      "image/png": "[encoded data removed]",
      "text/plain": [
       "<Figure size 607.736x500 with 1 Axes>"
      ]
     },
     "metadata": {},
     "output_type": "display_data"
    },
    {
     "data": {
      "image/png": "[encoded data removed]",
      "text/plain": [
       "<Figure size 607.736x500 with 1 Axes>"
      ]
     },
     "metadata": {},
     "output_type": "display_data"
    }
   ],
   "source": [
    "def comparar_distribuciones(distribucion):\n",
    "    sns.displot(data = combinaciones_dist, x = distribucion, \n",
    "                kind = \"kde\", hue = \"Configuracion\")\n",
    "    plt.title(distribucion)\n",
    "    plt.show()\n",
    "comparar_distribuciones(\"Espera cola balanceador\")\n",
    "comparar_distribuciones(\"Espera cola servidores\")\n",
    "comparar_distribuciones(\"Atención cola servidores\")"
   ]
  },
  {
   "cell_type": "code",
   "execution_count": null,
   "metadata": {},
   "outputs": [],
   "source": []
  }
 ],
 "metadata": {
  "kernelspec": {
   "display_name": "Python 3 (ipykernel)",
   "language": "python",
   "name": "python3"
  },
  "language_info": {
   "codemirror_mode": {
    "name": "ipython",
    "version": 3
   },
   "file_extension": ".py",
   "mimetype": "text/x-python",
   "name": "python",
   "nbconvert_exporter": "python",
   "pygments_lexer": "ipython3",
   "version": "3.12.3"
  }
 },
 "nbformat": 4,
 "nbformat_minor": 4
}
