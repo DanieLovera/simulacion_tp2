{
 "cells": [
  {
   "cell_type": "code",
   "execution_count": 1,
   "metadata": {},
   "outputs": [],
   "source": [
    "import simpy\n",
    "import random\n",
    "import numpy as np"
   ]
  },
  {
   "cell_type": "code",
   "execution_count": null,
   "metadata": {},
   "outputs": [],
   "source": []
  },
  {
   "cell_type": "code",
   "execution_count": 2,
   "metadata": {},
   "outputs": [],
   "source": [
    "class Servidor:\n",
    "    def __init__(self, env, id_servidor):\n",
    "        self.env = env\n",
    "        self.id_servidor = id_servidor\n",
    "        self.procesador = simpy.Resource(env, capacity=1)\n",
    "        self.carga = 0\n",
    "\n",
    "    def procesar(self, solicitud):\n",
    "        # el tiempo de procesamiento del servidor sigue una distribución exponencial\n",
    "        tiempo_procesamiento = random.expovariate(1 / TIEMPO_PROCESAMIENTO_PROM)\n",
    "        self.carga += 1\n",
    "        yield self.env.timeout(tiempo_procesamiento)\n",
    "        tiempos_atencion_servidores.append(tiempo_procesamiento)\n",
    "        self.carga -= 1"
   ]
  },
  {
   "cell_type": "code",
   "execution_count": 3,
   "metadata": {},
   "outputs": [],
   "source": [
    "class BalanceadorRoundRobin:\n",
    "    def __init__(self, env, servidores):\n",
    "        self.env = env\n",
    "        self.servidores = servidores\n",
    "        self.procesador = simpy.Resource(env, capacity=1)\n",
    "        self.ultimo_servidor = 0\n",
    "\n",
    "    def balancear(self, solicitud):\n",
    "        servidor = None\n",
    "        with self.procesador.request() as req:\n",
    "            tiempo_inicio_espera = self.env.now\n",
    "            yield req\n",
    "            tiempo_inicio_proceso = self.env.now\n",
    "            tiempo_de_espera = tiempo_inicio_proceso - tiempo_inicio_espera\n",
    "            tiempos_espera_cola_balanceador.append(tiempo_de_espera)\n",
    "            yield self.env.timeout(TIEMPO_BALANCEADOR)\n",
    "            servidor = self.seleccionar_servidor()\n",
    "        \n",
    "        with servidor.procesador.request() as req:\n",
    "            tiempo_inicio_espera = self.env.now\n",
    "            yield req\n",
    "            tiempos_espera_cola_servidores.append(self.env.now - tiempo_inicio_espera)\n",
    "            yield self.env.process(servidor.procesar(solicitud))\n",
    "\n",
    "    def seleccionar_servidor(self):\n",
    "        servidor = self.servidores[self.ultimo_servidor]\n",
    "        self.ultimo_servidor = (self.ultimo_servidor + 1) % len(self.servidores)\n",
    "        return servidor\n"
   ]
  },
  {
   "cell_type": "code",
   "execution_count": 4,
   "metadata": {},
   "outputs": [],
   "source": [
    "class BalanceadorDifuso:\n",
    "    def __init__(self, env, servidores, grafo, umbral):\n",
    "        self.env = env\n",
    "        self.servidores = servidores\n",
    "        self.procesador = simpy.Resource(env, capacity=1)\n",
    "        self.grafo = grafo\n",
    "        self.umbral = umbral\n",
    "\n",
    "    def balancear(self, solicitud):\n",
    "        servidor = None\n",
    "        with self.procesador.request() as req:\n",
    "            tiempo_inicio_espera = self.env.now\n",
    "            yield req\n",
    "            tiempos_espera_cola_balanceador.append(self.env.now - tiempo_inicio_espera)\n",
    "            yield self.env.timeout(TIEMPO_BALANCEADOR)\n",
    "            servidor = self.seleccionar_servidor()\n",
    "\n",
    "        with servidor.procesador.request() as req:\n",
    "            tiempo_inicio_espera = self.env.now\n",
    "            yield req\n",
    "            tiempos_espera_cola_servidores.append(self.env.now - tiempo_inicio_espera)\n",
    "            yield self.env.process(servidor.procesar(solicitud))\n",
    "\n",
    "    def seleccionar_servidor(self):\n",
    "        # selecciona un servidor con menor carga siguiendo el grafo y el umbral de carga\n",
    "        servidor_inicial = random.choice(self.servidores) # aca por ahi podriamos hacer un round robin como dice en el paper\n",
    "        return self.propagacion_difusa(servidor_inicial)\n",
    "\n",
    "    def propagacion_difusa(self, servidor_actual):\n",
    "        # busca el servidor menos cargado entre los vecinos si la diferencia de carga excede el umbral\n",
    "        visitados = set()  # para evitar ciclos en el grafo\n",
    "        cola = [servidor_actual]\n",
    "\n",
    "        while cola:\n",
    "            servidor = cola.pop(0)\n",
    "            visitados.add(servidor.id_servidor)\n",
    "\n",
    "            vecinos = [self.servidores[vid] for vid in self.grafo[servidor.id_servidor] if vid not in visitados]\n",
    "            if not vecinos:\n",
    "                break  # no hay vecinos a los que propagar\n",
    "\n",
    "            servidor_menos_cargado = min(vecinos, key=lambda s: s.carga)\n",
    "            diferencial_carga = servidor.carga - servidor_menos_cargado.carga\n",
    "\n",
    "            if diferencial_carga > self.umbral:\n",
    "                cola.append(servidor_menos_cargado)  # propaga al vecino menos cargado\n",
    "            else:\n",
    "                return servidor  # retorna el servidor actual si la carga es aceptable\n",
    "\n",
    "        return servidor_actual  # devuelve el servidor inicial si no se encontró uno mejor"
   ]
  },
  {
   "cell_type": "code",
   "execution_count": 5,
   "metadata": {},
   "outputs": [],
   "source": [
    "def generar_solicitudes(env, balanceador):\n",
    "    solicitud_id = 0\n",
    "\n",
    "    for _ in range(CANTIDAD_SOLICITUDES):\n",
    "        env.process(balanceador.balancear(solicitud_id))\n",
    "        solicitud_id += 1\n",
    "        yield env.timeout(random.expovariate(TASA_SOLICITUDES))"
   ]
  },
  {
   "cell_type": "code",
   "execution_count": 6,
   "metadata": {},
   "outputs": [],
   "source": [
    "def simular(tecnica, num_servidores):\n",
    "    env = simpy.Environment()\n",
    "    servidores = [Servidor(env, i) for i in range(num_servidores)]\n",
    "    \n",
    "    if tecnica == \"Difuso\":\n",
    "        balanceador = BalanceadorDifuso(env, servidores, grafo, UMBRAL_PROPAGACION)\n",
    "    elif tecnica == \"Round Robin\":\n",
    "        balanceador = BalanceadorRoundRobin(env, servidores)\n",
    "    else:\n",
    "        raise ValueError(\"Técnica no soportada en esta simulación\")\n",
    "\n",
    "    env.process(generar_solicitudes(env, balanceador))\n",
    "    env.run()"
   ]
  },
  {
   "cell_type": "code",
   "execution_count": 7,
   "metadata": {},
   "outputs": [],
   "source": [
    "def mostrar_resultados():\n",
    "    print(\"Media de espera en cola de balanceador:\", np.mean(tiempos_espera_cola_balanceador))\n",
    "    print(\"Media de espera en cola de servidores:\", np.mean(tiempos_espera_cola_servidores))\n",
    "    print(\"Media de atención en servidores:\", np.mean(tiempos_atencion_servidores))\n",
    "    print()\n",
    "\n",
    "    print(\"Mediana de espera en cola de balanceador:\", np.median(tiempos_espera_cola_balanceador))\n",
    "    print(\"Mediana de espera en cola de servidores:\", np.median(tiempos_espera_cola_servidores))\n",
    "    print(\"Mediana de atención en servidores:\", np.median(tiempos_atencion_servidores))\n",
    "    print()\n",
    "    \n",
    "    print(\"Desviación estándar de espera en cola del balanceador:\", np.std(tiempos_espera_cola_balanceador))\n",
    "    print(\"Desviación estándar de espera en cola de servidores:\", np.std(tiempos_espera_cola_servidores))\n",
    "    print(\"Desviación estándar de atención en servidores:\", np.std(tiempos_atencion_servidores))"
   ]
  },
  {
   "cell_type": "code",
   "execution_count": null,
   "metadata": {},
   "outputs": [],
   "source": []
  },
  {
   "cell_type": "code",
   "execution_count": 8,
   "metadata": {},
   "outputs": [
    {
     "name": "stdout",
     "output_type": "stream",
     "text": [
      "Simulación Round Robin\n",
      "\n",
      "Media de espera en cola de balanceador: 0.0002593490414312376\n",
      "Media de espera en cola de servidores: 0.00041339444089973993\n",
      "Media de atención en servidores: 0.10024531968572888\n",
      "\n",
      "Mediana de espera en cola de balanceador: 0.0\n",
      "Mediana de espera en cola de servidores: 0.0\n",
      "Mediana de atención en servidores: 0.06968501726776714\n",
      "\n",
      "Desviación estándar de espera en cola del balanceador: 0.0013330137141183327\n",
      "Desviación estándar de espera en cola de servidores: 0.008984400375841072\n",
      "Desviación estándar de atención en servidores: 0.10002393737172793\n"
     ]
    }
   ],
   "source": [
    "# Parámetros de la simulación\n",
    "TASA_SOLICITUDES = 5                # Tasa de llegada de solicitudes en solicitudes/segundo (poisson)\n",
    "TIEMPO_BALANCEADOR = 0.01           # Tiempo que toma al balanceador derivar la solicitud en segundos\n",
    "TIEMPO_PROCESAMIENTO_PROM = 0.1     # Tiempo promedio de procesamiento en segundos\n",
    "NUM_SERVIDORES = 5                  # Número de servidores\n",
    "\n",
    "CANTIDAD_SOLICITUDES = 100_000      # Cantidad de solicitudes a ejecutar en la simulacion\n",
    "\n",
    "# Inicialización de métricas\n",
    "tiempos_espera_cola_balanceador = [] # Tiempos de espera entre la llegada de una solicitud al balanceador y la atencion del mismo\n",
    "tiempos_espera_cola_servidores = []  # Tiempos de espera entre la llegada de una solicitud al servidor y la atencion del mismo\n",
    "tiempos_atencion_servidores = []     # Tiempos de procesamiento de las solicitudes en el servidor\n",
    "\n",
    "print(\"Simulación Round Robin\\n\")\n",
    "simular(\"Round Robin\", NUM_SERVIDORES)\n",
    "mostrar_resultados()"
   ]
  },
  {
   "cell_type": "code",
   "execution_count": null,
   "metadata": {},
   "outputs": [],
   "source": []
  },
  {
   "cell_type": "code",
   "execution_count": 9,
   "metadata": {},
   "outputs": [
    {
     "name": "stdout",
     "output_type": "stream",
     "text": [
      "Simulación Difusión\n",
      "\n",
      "Media de espera en cola de balanceador: 0.0002670355659791144\n",
      "Media de espera en cola de servidores: 0.011000204795488086\n",
      "Media de atención en servidores: 0.09995366530266565\n",
      "\n",
      "Mediana de espera en cola de balanceador: 0.0\n",
      "Mediana de espera en cola de servidores: 0.0\n",
      "Mediana de atención en servidores: 0.0689940288001283\n",
      "\n",
      "Desviación estándar de espera en cola del balanceador: 0.001354000985562318\n",
      "Desviación estándar de espera en cola de servidores: 0.0478443698652636\n",
      "Desviación estándar de atención en servidores: 0.10057835547748946\n"
     ]
    }
   ],
   "source": [
    "# Parámetros de la simulación\n",
    "TASA_SOLICITUDES = 5                # Tasa de llegada de solicitudes en solicitudes/segundo (poisson)\n",
    "TIEMPO_BALANCEADOR = 0.01           # Tiempo que toma al balanceador derivar la solicitud en segundos\n",
    "TIEMPO_PROCESAMIENTO_PROM = 0.1     # Tiempo promedio de procesamiento en segundos\n",
    "NUM_SERVIDORES = 5                  # Número de servidores\n",
    "\n",
    "UMBRAL_PROPAGACION = 2              # Diferencia de carga para propagación en balanceador difuso\n",
    "CANTIDAD_SOLICITUDES = 100_000      # Cantidad de solicitudes a ejecutar en la simulacion\n",
    "\n",
    "# Definición de la red de servidores en forma de grafo (lista de adyacencia)\n",
    "grafo = {\n",
    "    0: [1, 2],\n",
    "    1: [0, 3, 4],\n",
    "    2: [0, 3],\n",
    "    3: [1, 2, 4],\n",
    "    4: [1, 3]\n",
    "}\n",
    "\n",
    "# Inicialización de métricas\n",
    "tiempos_espera_cola_balanceador = [] # Tiempos que tarda el balanceador en enviar las solicitudes al servidor\n",
    "tiempos_espera_cola_servidores = []  # Tiempos de espera entre la llegada de una solicitud al servidor y la atencion del mismo\n",
    "tiempos_atencion_servidores = []     # Tiempos de procesamiento de las solicitudes en el servidor\n",
    "\n",
    "print(\"Simulación Difusión\\n\")\n",
    "simular(\"Difuso\", NUM_SERVIDORES)\n",
    "mostrar_resultados()"
   ]
  },
  {
   "cell_type": "code",
   "execution_count": null,
   "metadata": {},
   "outputs": [],
   "source": []
  }
 ],
 "metadata": {
  "kernelspec": {
   "display_name": "Python 3 (ipykernel)",
   "language": "python",
   "name": "python3"
  },
  "language_info": {
   "codemirror_mode": {
    "name": "ipython",
    "version": 3
   },
   "file_extension": ".py",
   "mimetype": "text/x-python",
   "name": "python",
   "nbconvert_exporter": "python",
   "pygments_lexer": "ipython3",
   "version": "3.12.3"
  }
 },
 "nbformat": 4,
 "nbformat_minor": 4
}
