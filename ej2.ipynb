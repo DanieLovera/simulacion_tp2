{
 "cells": [
  {
   "cell_type": "code",
   "execution_count": 10,
   "metadata": {},
   "outputs": [],
   "source": [
    "import simpy\n",
    "import random\n",
    "import numpy as np"
   ]
  },
  {
   "cell_type": "code",
   "execution_count": 11,
   "metadata": {},
   "outputs": [],
   "source": [
    "# Parámetros de la simulación\n",
    "NUM_SERVIDORES = 5                  # Número de servidores\n",
    "TIEMPO_PROCESAMIENTO_PROM = 0.1     # Tiempo promedio de procesamiento en segundos\n",
    "TIEMPO_BALANCEADOR = 0.01           # Tiempo que toma al balanceador derivar la solicitud en segundos\n",
    "TASA_SOLICITUDES = 5                # Tasa de llegada de solicitudes en solicitudes/segundo (poisson)\n",
    "UMBRAL_PROPAGACION = 2              # Diferencia de carga para propagación en balanceador difuso\n",
    "TIEMPO_SIMULACION = 100             # Tiempo total de simulación en segundos\n",
    "\n",
    "# Inicialización de métricas\n",
    "tiempos_espera_cola = []\n",
    "tiempos_atencion_servidores = []\n",
    "tiempos_espera_balanceador = []\n",
    "\n",
    "# Definición de la red de servidores en forma de grafo (lista de adyacencia)\n",
    "grafo = {\n",
    "    0: [1, 2],\n",
    "    1: [0, 3, 4],\n",
    "    2: [0, 3],\n",
    "    3: [1, 2, 4],\n",
    "    4: [1, 3]\n",
    "}"
   ]
  },
  {
   "cell_type": "code",
   "execution_count": 12,
   "metadata": {},
   "outputs": [],
   "source": [
    "class Servidor:\n",
    "    def __init__(self, env, id_servidor):\n",
    "        self.env = env\n",
    "        self.id_servidor = id_servidor\n",
    "        self.procesador = simpy.Resource(env, capacity=1)\n",
    "        self.carga = 0\n",
    "\n",
    "    def procesar(self, solicitud):\n",
    "        # el tiempo de procesamiento del servidor sigue una distribución exponencial\n",
    "        tiempo_procesamiento = random.expovariate(1 / TIEMPO_PROCESAMIENTO_PROM) \n",
    "        self.carga += 1\n",
    "        yield self.env.timeout(tiempo_procesamiento)\n",
    "        tiempos_atencion_servidores.append(tiempo_procesamiento)\n",
    "        self.carga -= 1"
   ]
  },
  {
   "cell_type": "code",
   "execution_count": 13,
   "metadata": {},
   "outputs": [],
   "source": [
    "class BalanceadorRoundRobin:\n",
    "    def __init__(self, env, servidores):\n",
    "        self.env = env\n",
    "        self.servidores = servidores\n",
    "        self.ultimo_servidor = 0\n",
    "\n",
    "    def balancear(self, solicitud):\n",
    "        tiempo_inicio_balanceo = self.env.now\n",
    "        yield self.env.timeout(TIEMPO_BALANCEADOR)\n",
    "        tiempos_espera_balanceador.append(self.env.now - tiempo_inicio_balanceo)\n",
    "\n",
    "        servidor = self.seleccionar_servidor()\n",
    "        with servidor.procesador.request() as req:\n",
    "            tiempo_inicio_espera = self.env.now\n",
    "            yield req\n",
    "            tiempos_espera_cola.append(self.env.now - tiempo_inicio_espera)\n",
    "            yield self.env.process(servidor.procesar(solicitud))\n",
    "\n",
    "    def seleccionar_servidor(self):\n",
    "        servidor = self.servidores[self.ultimo_servidor]\n",
    "        self.ultimo_servidor = (self.ultimo_servidor + 1) % len(self.servidores)\n",
    "        return servidor\n"
   ]
  },
  {
   "cell_type": "code",
   "execution_count": 14,
   "metadata": {},
   "outputs": [],
   "source": [
    "class BalanceadorDifuso:\n",
    "    def __init__(self, env, servidores, grafo, umbral):\n",
    "        self.env = env\n",
    "        self.servidores = servidores\n",
    "        self.grafo = grafo\n",
    "        self.umbral = umbral\n",
    "\n",
    "    def balancear(self, solicitud):\n",
    "        tiempo_inicio_balanceo = self.env.now\n",
    "        yield self.env.timeout(TIEMPO_BALANCEADOR)\n",
    "        tiempos_espera_balanceador.append(self.env.now - tiempo_inicio_balanceo)\n",
    "\n",
    "        servidor = self.seleccionar_servidor()\n",
    "        with servidor.procesador.request() as req:\n",
    "            tiempo_inicio_espera = self.env.now\n",
    "            yield req\n",
    "            tiempos_espera_cola.append(self.env.now - tiempo_inicio_espera)\n",
    "            yield self.env.process(servidor.procesar(solicitud))\n",
    "\n",
    "    def seleccionar_servidor(self):\n",
    "        # selecciona un servidor con menor carga siguiendo el grafo y el umbral de carga\n",
    "        servidor_inicial = random.choice(self.servidores) # aca por ahi podriamos hacer un round robin como dice en el paper\n",
    "        return self.propagacion_difusa(servidor_inicial)\n",
    "\n",
    "    def propagacion_difusa(self, servidor_actual):\n",
    "        # busca el servidor menos cargado entre los vecinos si la diferencia de carga excede el umbral\n",
    "        visitados = set()  # para evitar ciclos en el grafo\n",
    "        cola = [servidor_actual]\n",
    "\n",
    "        while cola:\n",
    "            servidor = cola.pop(0)\n",
    "            visitados.add(servidor.id_servidor)\n",
    "\n",
    "            vecinos = [self.servidores[vid] for vid in self.grafo[servidor.id_servidor] if vid not in visitados]\n",
    "            if not vecinos:\n",
    "                break  # no hay vecinos a los que propagar\n",
    "\n",
    "            servidor_menos_cargado = min(vecinos, key=lambda s: s.carga)\n",
    "            diferencial_carga = servidor.carga - servidor_menos_cargado.carga\n",
    "\n",
    "            if diferencial_carga > self.umbral:\n",
    "                cola.append(servidor_menos_cargado)  # propaga al vecino menos cargado\n",
    "            else:\n",
    "                return servidor  # retorna el servidor actual si la carga es aceptable\n",
    "\n",
    "        return servidor_actual  # devuelve el servidor inicial si no se encontró uno mejor"
   ]
  },
  {
   "cell_type": "code",
   "execution_count": 15,
   "metadata": {},
   "outputs": [],
   "source": [
    "def generar_solicitudes(env, balanceador):\n",
    "    solicitud_id = 0\n",
    "    while True:\n",
    "        yield env.timeout(random.expovariate(TASA_SOLICITUDES))\n",
    "        env.process(balanceador.balancear(solicitud_id))\n",
    "        solicitud_id += 1"
   ]
  },
  {
   "cell_type": "code",
   "execution_count": 16,
   "metadata": {},
   "outputs": [],
   "source": [
    "def simular(tecnica, num_servidores, tiempo_simulacion):\n",
    "    env = simpy.Environment()\n",
    "    servidores = [Servidor(env, i) for i in range(num_servidores)]\n",
    "       \n",
    "    if tecnica == \"Difuso\":\n",
    "        balanceador = BalanceadorDifuso(env, servidores, grafo, UMBRAL_PROPAGACION)\n",
    "    elif tecnica == \"Round Robin\":\n",
    "        balanceador = BalanceadorRoundRobin(env, servidores)\n",
    "    else:\n",
    "        raise ValueError(\"Técnica no soportada en esta simulación\")\n",
    "\n",
    "    env.process(generar_solicitudes(env, balanceador))\n",
    "    env.run(until=tiempo_simulacion)"
   ]
  },
  {
   "cell_type": "code",
   "execution_count": 17,
   "metadata": {},
   "outputs": [],
   "source": [
    "def mostrar_resultados():\n",
    "    print(\"Tiempo promedio de espera en cola:\", np.mean(tiempos_espera_cola))\n",
    "    print(\"Tiempo promedio de espera en balanceador:\", np.mean(tiempos_espera_balanceador))\n",
    "    print(\"Tiempo promedio de atención en servidores:\", np.mean(tiempos_atencion_servidores))\n",
    "    print(\"Desviación estándar de espera en cola:\", np.std(tiempos_espera_cola))\n",
    "    print(\"Desviación estándar de atención en servidores:\", np.std(tiempos_atencion_servidores))"
   ]
  },
  {
   "cell_type": "code",
   "execution_count": 18,
   "metadata": {},
   "outputs": [
    {
     "name": "stdout",
     "output_type": "stream",
     "text": [
      "Simulación Round Robin\n",
      "Tiempo promedio de espera en cola: 0.00046404189185893165\n",
      "Tiempo promedio de espera en balanceador: 0.010000000000001313\n",
      "Tiempo promedio de atención en servidores: 0.10173624508149241\n",
      "Desviación estándar de espera en cola: 0.007913338578366206\n",
      "Desviación estándar de atención en servidores: 0.10294939399209758\n",
      "\n",
      "Simulación Difuso\n",
      "Tiempo promedio de espera en cola: 0.003677942292877666\n",
      "Tiempo promedio de espera en balanceador: 0.01000000000000139\n",
      "Tiempo promedio de atención en servidores: 0.09763979330849255\n",
      "Desviación estándar de espera en cola: 0.02325543040304267\n",
      "Desviación estándar de atención en servidores: 0.10096819883119065\n"
     ]
    }
   ],
   "source": [
    "print(\"Simulación Round Robin\")\n",
    "simular(\"Round Robin\", NUM_SERVIDORES, TIEMPO_SIMULACION)\n",
    "mostrar_resultados()\n",
    "\n",
    "print(\"\\nSimulación Difuso\")\n",
    "simular(\"Difuso\", NUM_SERVIDORES, TIEMPO_SIMULACION)\n",
    "mostrar_resultados()"
   ]
  }
 ],
 "metadata": {
  "kernelspec": {
   "display_name": "Python 3",
   "language": "python",
   "name": "python3"
  },
  "language_info": {
   "codemirror_mode": {
    "name": "ipython",
    "version": 3
   },
   "file_extension": ".py",
   "mimetype": "text/x-python",
   "name": "python",
   "nbconvert_exporter": "python",
   "pygments_lexer": "ipython3",
   "version": "3.10.12"
  }
 },
 "nbformat": 4,
 "nbformat_minor": 2
}
