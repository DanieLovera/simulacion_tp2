{
 "cells": [
  {
   "cell_type": "code",
   "execution_count": null,
   "metadata": {
    "colab": {
     "base_uri": "https://localhost:8080/"
    },
    "id": "1PqZIkQkP9Oy",
    "outputId": "f3c11baf-48a3-4122-87a2-86a8d99ea5a4"
   },
   "outputs": [],
   "source": [
    "!pip install simpy\n",
    "!pip install numpy\n",
    "!pip install matplotlib"
   ]
  },
  {
   "cell_type": "code",
   "execution_count": null,
   "metadata": {
    "id": "lZJ1bDvEMrwc"
   },
   "outputs": [],
   "source": [
    "import random\n",
    "import simpy\n",
    "import numpy\n",
    "import matplotlib.pyplot as plt\n",
    "import math"
   ]
  },
  {
   "cell_type": "code",
   "execution_count": null,
   "metadata": {
    "id": "HWv1uQ8PPw9n"
   },
   "outputs": [],
   "source": [
    "class BaseDeDatos(simpy.Resource):\n",
    "\n",
    "  def __init__(self, env, mu_demora, probabilidad = 1):\n",
    "    super().__init__(env, 1)\n",
    "\n",
    "    self.mu_demora = mu_demora\n",
    "    self.probabilidad = probabilidad # Probabilidad de atender solicitud\n",
    "\n",
    "  def get_demora_solicitud(self):\n",
    "    return random.expovariate(1 / self.mu_demora)"
   ]
  },
  {
   "cell_type": "code",
   "execution_count": null,
   "metadata": {
    "id": "1Bs0omIYQ_i6"
   },
   "outputs": [],
   "source": [
    "class Solicitud():\n",
    "\n",
    "  def __init__(self, env, id):\n",
    "    self.env = env\n",
    "    self.id = id\n",
    "\n",
    "  def procesar(self, bdd, estadisticas):\n",
    "    tiempo_llegada = self.env.now\n",
    "    estadisticas.agregar_solicitud_a_cola(tiempo_llegada)\n",
    "\n",
    "    with bdd.request() as req:\n",
    "      yield req\n",
    "\n",
    "      tiempo_inicio_proceso = self.env.now\n",
    "      estadisticas.eliminar_solicitud_de_cola(tiempo_inicio_proceso)\n",
    "\n",
    "      tiempo_de_espera = tiempo_inicio_proceso - tiempo_llegada\n",
    "      estadisticas.agregar_tiempo_de_espera(tiempo_de_espera)\n",
    "\n",
    "      demora = bdd.get_demora_solicitud()\n",
    "      yield self.env.timeout(demora)"
   ]
  },
  {
   "cell_type": "code",
   "execution_count": null,
   "metadata": {
    "id": "9SxUd_gT7SLy"
   },
   "outputs": [],
   "source": [
    "class Estadisticas():\n",
    "\n",
    "    def __init__(self):\n",
    "      self.solicitudes_en_cola = 0\n",
    "      self.espera_acumulada = 0\n",
    "      self.solicitudes_atendidas_sin_espera = 0\n",
    "      self.tamanio_cola = [] # Tamanio de la cola en cada instante de tiempo\n",
    "\n",
    "    def agregar_solicitud_a_cola(self, tiempo):\n",
    "      self.solicitudes_en_cola += 1\n",
    "      self.tamanio_cola.append((tiempo, self.solicitudes_en_cola))\n",
    "\n",
    "    def eliminar_solicitud_de_cola(self, tiempo):\n",
    "      self.solicitudes_en_cola -= 1\n",
    "      self.tamanio_cola.append((tiempo, self.solicitudes_en_cola))\n",
    "\n",
    "    def agregar_tiempo_de_espera(self, tiempo_de_espera):\n",
    "      if tiempo_de_espera == 0:\n",
    "        self.solicitudes_atendidas_sin_espera += 1\n",
    "\n",
    "      self.espera_acumulada += tiempo_de_espera\n",
    "\n",
    "    def tiempo_medio_de_espera(self):\n",
    "      return self.espera_acumulada / cantidad_solicitudes\n",
    "\n",
    "    def proporcion_solicitudes_sin_espera(self):\n",
    "      return self.solicitudes_atendidas_sin_espera / cantidad_solicitudes"
   ]
  },
  {
   "cell_type": "code",
   "execution_count": null,
   "metadata": {
    "id": "Ks2kklAGShpF"
   },
   "outputs": [],
   "source": [
    "def generar_solicitudes(env, cantidad_solicitudes, intervalo_llegadas, bases_de_datos, estadisticas):\n",
    "    for i in range(cantidad_solicitudes):\n",
    "        bdd = seleccionar_base_de_datos(bases_de_datos)\n",
    "\n",
    "        solicitud = Solicitud(env, i)\n",
    "        env.process(solicitud.procesar(bdd, estadisticas))\n",
    "\n",
    "        t = random.expovariate(1.0 / intervalo_llegadas)\n",
    "        yield env.timeout(t)\n",
    "\n",
    "def seleccionar_base_de_datos(bases_de_datos):\n",
    "  return numpy.random.choice(bases_de_datos, p = [bdd.probabilidad for bdd in bases_de_datos])"
   ]
  },
  {
   "cell_type": "code",
   "execution_count": null,
   "metadata": {
    "id": "6py4qDMmByay"
   },
   "outputs": [],
   "source": [
    "def simular_una_base(mu_demora):\n",
    "  env = simpy.Environment()\n",
    "\n",
    "  bases_de_datos = [BaseDeDatos(env, mu_demora)]\n",
    "\n",
    "  estadisticas = Estadisticas()\n",
    "  env.process(generar_solicitudes(env, cantidad_solicitudes, intervalo_llegadas, bases_de_datos, estadisticas))\n",
    "  env.run()\n",
    "\n",
    "  return estadisticas"
   ]
  },
  {
   "cell_type": "code",
   "execution_count": null,
   "metadata": {
    "id": "RirUTf4VYsQg"
   },
   "outputs": [],
   "source": [
    "def simular_dos_bases(mu_demora_1, mu_demora_2):\n",
    "  env = simpy.Environment()\n",
    "\n",
    "  bases_de_datos = [BaseDeDatos(env, mu_demora_1, 0.7), BaseDeDatos(env, mu_demora_2, 0.3)]\n",
    "\n",
    "  estadisticas = Estadisticas()\n",
    "  env.process(generar_solicitudes(env, cantidad_solicitudes, intervalo_llegadas, bases_de_datos, estadisticas))\n",
    "  env.run()\n",
    "\n",
    "  return estadisticas"
   ]
  },
  {
   "cell_type": "code",
   "execution_count": null,
   "metadata": {
    "id": "UBRX7i_qSjKF"
   },
   "outputs": [],
   "source": [
    "cantidad_solicitudes = 10_000\n",
    "intervalo_llegadas = 4"
   ]
  },
  {
   "cell_type": "code",
   "execution_count": null,
   "metadata": {
    "colab": {
     "base_uri": "https://localhost:8080/"
    },
    "id": "_d3xPa82iXuz",
    "outputId": "1073e40c-8e35-40ae-e6d7-3fc82a32051e"
   },
   "outputs": [],
   "source": [
    "mu_demora = 0.8\n",
    "\n",
    "estadisticas = simular_una_base(mu_demora)\n",
    "\n",
    "print('Tiempo medio de espera: %f' % estadisticas.tiempo_medio_de_espera())\n",
    "print('Proporicion de solicitudes atendidas sin espera: %f' % estadisticas.proporcion_solicitudes_sin_espera())"
   ]
  },
  {
   "cell_type": "code",
   "execution_count": null,
   "metadata": {
    "colab": {
     "base_uri": "https://localhost:8080/"
    },
    "id": "0DXEMDkyZwSw",
    "outputId": "d261713f-8a08-4380-8333-a783058153b2"
   },
   "outputs": [],
   "source": [
    "mu_demora_1 = 0.7\n",
    "mu_demora_2 = 1\n",
    "\n",
    "estadisticas = simular_dos_bases(mu_demora_1, mu_demora_2)\n",
    "\n",
    "print('Tiempo medio de espera: %f' % estadisticas.tiempo_medio_de_espera())\n",
    "print('Proporicion de solicitudes atendidas sin espera: %f' % estadisticas.proporcion_solicitudes_sin_espera())"
   ]
  }
 ],
 "metadata": {
  "colab": {
   "provenance": []
  },
  "kernelspec": {
   "display_name": "Python 3 (ipykernel)",
   "language": "python",
   "name": "python3"
  },
  "language_info": {
   "codemirror_mode": {
    "name": "ipython",
    "version": 3
   },
   "file_extension": ".py",
   "mimetype": "text/x-python",
   "name": "python",
   "nbconvert_exporter": "python",
   "pygments_lexer": "ipython3",
   "version": "3.12.3"
  }
 },
 "nbformat": 4,
 "nbformat_minor": 4
}
